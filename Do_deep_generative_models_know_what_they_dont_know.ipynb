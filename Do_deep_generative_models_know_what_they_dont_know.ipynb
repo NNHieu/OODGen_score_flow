{
 "cells": [
  {
   "cell_type": "code",
   "execution_count": 1,
   "metadata": {},
   "outputs": [
    {
     "name": "stderr",
     "output_type": "stream",
     "text": [
      "/home/cyanos/Workspace/OOD_Generative_models/score_flow-main/venv/lib/python3.10/site-packages/tqdm/auto.py:22: TqdmWarning: IProgress not found. Please update jupyter and ipywidgets. See https://ipywidgets.readthedocs.io/en/stable/user_install.html\n",
      "  from .autonotebook import tqdm as notebook_tqdm\n"
     ]
    },
    {
     "name": "stdout",
     "output_type": "stream",
     "text": [
      "WARNING:tensorflow:From /home/cyanos/Workspace/OOD_Generative_models/score_flow-main/venv/lib/python3.10/site-packages/tensorflow_gan/python/estimator/tpu_gan_estimator.py:42: The name tf.estimator.tpu.TPUEstimator is deprecated. Please use tf.compat.v1.estimator.tpu.TPUEstimator instead.\n",
      "\n"
     ]
    },
    {
     "name": "stderr",
     "output_type": "stream",
     "text": [
      "WARNING:tensorflow:From /home/cyanos/Workspace/OOD_Generative_models/score_flow-main/venv/lib/python3.10/site-packages/tensorflow_gan/python/estimator/tpu_gan_estimator.py:42: The name tf.estimator.tpu.TPUEstimator is deprecated. Please use tf.compat.v1.estimator.tpu.TPUEstimator instead.\n",
      "\n"
     ]
    }
   ],
   "source": [
    "import io\n",
    "import os\n",
    "import time\n",
    "import tensorflow as tf\n",
    "tf.config.experimental.set_visible_devices([], \"GPU\")\n",
    "os.environ['XLA_PYTHON_CLIENT_PREALLOCATE'] = 'false'\n",
    "os.environ['XLA_FLAGS']='--xla_gpu_strict_conv_algorithm_picker=false'\n",
    "import jax\n",
    "import jax.numpy as jnp\n",
    "import numpy as np\n",
    "from configs.subvp.cifar10_ddpmpp_continuous import get_config\n",
    "import datasets\n",
    "import evaluation\n",
    "import likelihood\n",
    "import sde_lib\n",
    "import losses\n",
    "from models import utils as mutils\n",
    "import logging\n",
    "import flax\n",
    "from typing import Any\n",
    "from flax.training import checkpoints\n",
    "# Keep the import below for registering all model definitions\n",
    "from models import ncsnpp"
   ]
  },
  {
   "cell_type": "code",
   "execution_count": 2,
   "metadata": {},
   "outputs": [],
   "source": [
    "config = get_config()\n",
    "config.data.dataset = 'SVHN'\n",
    "workdir = 'outs/cifar10_subvp_likelihood_tw'\n",
    "eval_folder=\"eval\"\n",
    "eval_dir = os.path.join(workdir, eval_folder)\n",
    "checkpoint_dir = os.path.join(workdir, \"checkpoints\")\n",
    "tf.io.gfile.makedirs(eval_dir)\n",
    "rng = jax.random.PRNGKey(config.seed + 1)"
   ]
  },
  {
   "cell_type": "code",
   "execution_count": 4,
   "metadata": {},
   "outputs": [
    {
     "name": "stderr",
     "output_type": "stream",
     "text": [
      "2022-08-11 16:12:35.577791: W tensorflow/core/platform/cloud/google_auth_provider.cc:184] All attempts to get a Google authentication bearer token failed, returning an empty token. Retrieving token from files failed with \"NOT_FOUND: Could not locate the credentials file.\". Retrieving token from GCE failed with \"FAILED_PRECONDITION: Error executing an HTTP request: libcurl code 6 meaning 'Couldn't resolve host name', error details: Could not resolve host: metadata\".\n",
      "WARNING:absl:options.experimental_threading is deprecated. Use options.threading instead.\n",
      "WARNING:absl:options.experimental_threading is deprecated. Use options.threading instead.\n"
     ]
    },
    {
     "name": "stdout",
     "output_type": "stream",
     "text": [
      "\u001b[1mDownloading and preparing dataset 1.47 GiB (download: 1.47 GiB, generated: Unknown size, total: 1.47 GiB) to ~/tensorflow_datasets/svhn_cropped/3.0.0...\u001b[0m\n"
     ]
    },
    {
     "name": "stderr",
     "output_type": "stream",
     "text": [
      "Dl Completed...:   0%|          | 0/3 [00:21<?, ? url/s]"
     ]
    }
   ],
   "source": [
    "if config.eval.enable_loss or config.eval.enable_bpd:\n",
    "    # Build data pipeline\n",
    "    train_ds, eval_ds, _ = datasets.get_dataset(config,\n",
    "                                                additional_dim=1,\n",
    "                                                uniform_dequantization=config.data.uniform_dequantization,\n",
    "                                                evaluation=True)\n",
    "\n",
    "# Create data normalizer and its inverse\n",
    "scaler = datasets.get_data_scaler(config)\n",
    "inverse_scaler = datasets.get_data_inverse_scaler(config)"
   ]
  },
  {
   "cell_type": "code",
   "execution_count": 5,
   "metadata": {},
   "outputs": [],
   "source": [
    "# Setup SDEs\n",
    "if config.training.sde.lower() == 'vpsde':\n",
    "    sde = sde_lib.VPSDE(beta_min=config.model.beta_min, beta_max=config.model.beta_max, N=config.model.num_scales)\n",
    "elif config.training.sde.lower() == 'subvpsde':\n",
    "    sde = sde_lib.subVPSDE(beta_min=config.model.beta_min, beta_max=config.model.beta_max, N=config.model.num_scales)\n",
    "elif config.training.sde.lower() == 'vesde':\n",
    "    sde = sde_lib.VESDE(sigma_min=config.model.sigma_min, sigma_max=config.model.sigma_max, N=config.model.num_scales)\n",
    "elif config.training.sde.lower() == 'linearvesde':\n",
    "    sde = sde_lib.VESDE(sigma_min=config.model.sigma_min, sigma_max=config.model.sigma_max, N=config.model.num_scales,\n",
    "                        linear=True)\n",
    "else:\n",
    "    raise NotImplementedError(f\"SDE {config.training.sde} unknown.\")\n",
    "\n",
    "sampling_eps = config.sampling.smallest_time"
   ]
  },
  {
   "cell_type": "code",
   "execution_count": 6,
   "metadata": {},
   "outputs": [
    {
     "name": "stderr",
     "output_type": "stream",
     "text": [
      "2022-08-11 15:13:56.180642: W external/org_tensorflow/tensorflow/core/common_runtime/bfc_allocator.cc:290] Allocator (GPU_0_bfc) ran out of memory trying to allocate 3.36GiB with freed_by_count=0. The caller indicates that this is not a failure, but this may mean that there could be performance gains if more memory were available.\n",
      "2022-08-11 15:13:56.180670: W external/org_tensorflow/tensorflow/core/common_runtime/bfc_allocator.cc:290] Allocator (GPU_0_bfc) ran out of memory trying to allocate 3.36GiB with freed_by_count=0. The caller indicates that this is not a failure, but this may mean that there could be performance gains if more memory were available.\n",
      "2022-08-11 15:13:58.621579: W external/org_tensorflow/tensorflow/core/common_runtime/bfc_allocator.cc:290] Allocator (GPU_0_bfc) ran out of memory trying to allocate 3.36GiB with freed_by_count=0. The caller indicates that this is not a failure, but this may mean that there could be performance gains if more memory were available.\n",
      "2022-08-11 15:13:58.621607: W external/org_tensorflow/tensorflow/core/common_runtime/bfc_allocator.cc:290] Allocator (GPU_0_bfc) ran out of memory trying to allocate 3.36GiB with freed_by_count=0. The caller indicates that this is not a failure, but this may mean that there could be performance gains if more memory were available.\n",
      "2022-08-11 15:13:59.911654: W external/org_tensorflow/tensorflow/core/common_runtime/bfc_allocator.cc:290] Allocator (GPU_0_bfc) ran out of memory trying to allocate 2.27GiB with freed_by_count=0. The caller indicates that this is not a failure, but this may mean that there could be performance gains if more memory were available.\n",
      "2022-08-11 15:13:59.911679: W external/org_tensorflow/tensorflow/core/common_runtime/bfc_allocator.cc:290] Allocator (GPU_0_bfc) ran out of memory trying to allocate 2.27GiB with freed_by_count=0. The caller indicates that this is not a failure, but this may mean that there could be performance gains if more memory were available.\n",
      "/home/cyanos/Workspace/OOD_Generative_models/score_flow-main/venv/lib/python3.10/site-packages/flax/optim/base.py:49: DeprecationWarning: Use `optax` instead of `flax.optim`. Refer to the update guide https://flax.readthedocs.io/en/latest/howtos/optax_update_guide.html for detailed instructions.\n",
      "  warnings.warn(\n"
     ]
    }
   ],
   "source": [
    "# Initialize model\n",
    "rng, model_rng = jax.random.split(rng)\n",
    "score_model, init_model_state, initial_params = mutils.init_model(model_rng, config)\n",
    "optimizer = losses.get_optimizer(config).create(initial_params)\n",
    "state = mutils.State(step=0, optimizer=optimizer, lr=config.optim.lr,\n",
    "                    model_state=init_model_state,\n",
    "                    ema_rate=config.model.ema_rate,\n",
    "                    params_ema=initial_params,\n",
    "                    rng=rng)  # pytype: disable=wrong-keyword-args"
   ]
  },
  {
   "cell_type": "code",
   "execution_count": 7,
   "metadata": {},
   "outputs": [
    {
     "name": "stderr",
     "output_type": "stream",
     "text": [
      "WARNING:absl:options.experimental_threading is deprecated. Use options.threading instead.\n",
      "WARNING:absl:options.experimental_threading is deprecated. Use options.threading instead.\n",
      "WARNING:absl:options.experimental_threading is deprecated. Use options.threading instead.\n",
      "WARNING:absl:options.experimental_threading is deprecated. Use options.threading instead.\n"
     ]
    }
   ],
   "source": [
    "if config.eval.enable_bpd:\n",
    "    train_ds_bpd, eval_ds_bpd, _ = datasets.get_dataset(config,\n",
    "                                                        additional_dim=None,\n",
    "                                                        uniform_dequantization=True, evaluation=True)\n",
    "    if config.eval.bpd_dataset.lower() == 'train':\n",
    "      ds_bpd = train_ds_bpd\n",
    "      bpd_num_repeats = 1\n",
    "    elif config.eval.bpd_dataset.lower() == 'test':\n",
    "      # Go over the dataset 5 times when computing likelihood on the test dataset\n",
    "      ds_bpd = eval_ds_bpd\n",
    "      bpd_num_repeats = config.eval.num_repeats\n",
    "    else:\n",
    "      raise ValueError(f\"No bpd dataset {config.eval.bpd_dataset} recognized.\")\n",
    "    \n",
    "    # Build the likelihood computation function\n",
    "    likelihood_fn = likelihood.get_likelihood_fn(sde, score_model, inverse_scaler, eps=config.training.smallest_time)\n",
    "    "
   ]
  },
  {
   "cell_type": "code",
   "execution_count": 8,
   "metadata": {},
   "outputs": [],
   "source": [
    "@flax.struct.dataclass\n",
    "class EvalMeta:\n",
    "    ckpt_id: int\n",
    "    sampling_round_id: int\n",
    "    bpd_round_id: int\n",
    "    rng: Any"
   ]
  },
  {
   "cell_type": "code",
   "execution_count": 9,
   "metadata": {},
   "outputs": [],
   "source": [
    "# Add one additional round to get the exact number of samples as required.\n",
    "num_sampling_rounds = config.eval.num_samples // config.eval.batch_size + 1\n",
    "if config.eval.enable_bpd:\n",
    "    num_bpd_rounds = len(ds_bpd) * bpd_num_repeats\n",
    "else:\n",
    "    num_bpd_rounds = 1"
   ]
  },
  {
   "cell_type": "code",
   "execution_count": 10,
   "metadata": {},
   "outputs": [
    {
     "name": "stderr",
     "output_type": "stream",
     "text": [
      "/home/cyanos/Workspace/OOD_Generative_models/score_flow-main/venv/lib/python3.10/site-packages/jax/_src/lib/xla_bridge.py:515: UserWarning: jax.host_id has been renamed to jax.process_index. This alias will eventually be removed; please update your code.\n",
      "  warnings.warn(\n"
     ]
    }
   ],
   "source": [
    "# Restore evaluation after pre-emption\n",
    "eval_meta = EvalMeta(ckpt_id=config.eval.begin_ckpt, sampling_round_id=-1, bpd_round_id=-1, rng=rng)\n",
    "eval_meta = checkpoints.restore_checkpoint(\n",
    "    eval_dir, eval_meta, step=None, prefix=f\"meta_{jax.host_id()}_\")\n",
    "\n",
    "if eval_meta.bpd_round_id < num_bpd_rounds - 1:\n",
    "    begin_ckpt = eval_meta.ckpt_id\n",
    "    begin_bpd_round = eval_meta.bpd_round_id + 1\n",
    "    begin_sampling_round = 0\n",
    "\n",
    "elif eval_meta.sampling_round_id < num_sampling_rounds - 1:\n",
    "    begin_ckpt = eval_meta.ckpt_id\n",
    "    begin_bpd_round = num_bpd_rounds\n",
    "    begin_sampling_round = eval_meta.sampling_round_id + 1\n",
    "else:\n",
    "    begin_ckpt = eval_meta.ckpt_id + 1\n",
    "    begin_bpd_round = 0\n",
    "    begin_sampling_round = 0\n",
    "\n",
    "rng = eval_meta.rng"
   ]
  },
  {
   "cell_type": "code",
   "execution_count": 11,
   "metadata": {},
   "outputs": [],
   "source": [
    "inceptionv3 = config.data.image_size >= 256\n",
    "inception_model = evaluation.get_inception_model(inceptionv3=inceptionv3)"
   ]
  },
  {
   "cell_type": "code",
   "execution_count": 12,
   "metadata": {},
   "outputs": [
    {
     "name": "stdout",
     "output_type": "stream",
     "text": [
      "begin checkpoint: 26\n"
     ]
    }
   ],
   "source": [
    "print(\"begin checkpoint: %d\" % (begin_ckpt,))\n",
    "# Wait if the target checkpoint doesn't exist yet\n",
    "ckpt = config.eval.end_ckpt\n",
    "ckpt_filename = os.path.join(checkpoint_dir, \"checkpoint_{}\".format(ckpt))\n",
    "state = checkpoints.restore_checkpoint(checkpoint_dir, state, step=ckpt)"
   ]
  },
  {
   "cell_type": "code",
   "execution_count": 13,
   "metadata": {},
   "outputs": [
    {
     "name": "stderr",
     "output_type": "stream",
     "text": [
      "/tmp/ipykernel_45519/375905512.py:4: FutureWarning: jax.tree_map is deprecated, and will be removed in a future release. Use jax.tree_util.tree_map instead.\n",
      "  cond_tree = jax.tree_map(lambda x: False, params_ema)\n",
      "/tmp/ipykernel_45519/375905512.py:17: FutureWarning: jax.tree_map is deprecated, and will be removed in a future release. Use jax.tree_util.tree_map instead.\n",
      "  params_ema = jax.tree_map(lambda p, cond: p.squeeze() if cond else p, params_ema, cond_tree)\n"
     ]
    }
   ],
   "source": [
    "params_ema = state.params_ema.unfreeze()\n",
    "# params_ema['ResnetBlockBigGANpp_0']['GroupNorm_0']['scale'] = params_ema['ResnetBlockBigGANpp_0']['GroupNorm_0']['scale'].squeeze()\n",
    "# params_ema['ResnetBlockBigGANpp_0']['GroupNorm_0']['bias'] = params_ema['ResnetBlockBigGANpp_0']['GroupNorm_0']['bias'].squeeze()\n",
    "cond_tree = jax.tree_map(lambda x: False, params_ema)\n",
    "def walk_dict(d,depth=0):\n",
    "    for k,v in sorted(d.items(),key=lambda x: x[0]):\n",
    "        if isinstance(v, dict):\n",
    "            # print(\"  \"*depth+ (\"%s\" % k))\n",
    "            if 'GroupNorm' in k:\n",
    "                for sk,sv in v.items():\n",
    "                    v[sk] = True\n",
    "            else:\n",
    "                walk_dict(v,depth+1)\n",
    "        # else:            \n",
    "            # print(\"  \"*depth + \"%s %s\" % (k, v))\n",
    "walk_dict(cond_tree)\n",
    "params_ema = jax.tree_map(lambda p, cond: p.squeeze() if cond else p, params_ema, cond_tree)\n",
    "object.__setattr__(state, 'params_ema', flax.core.frozen_dict.freeze(params_ema))"
   ]
  },
  {
   "cell_type": "code",
   "execution_count": 14,
   "metadata": {},
   "outputs": [
    {
     "data": {
      "text/plain": [
       "(128,)"
      ]
     },
     "execution_count": 14,
     "metadata": {},
     "output_type": "execute_result"
    }
   ],
   "source": [
    "state.params_ema['ResnetBlockBigGANpp_0']['GroupNorm_1']['scale'].shape"
   ]
  },
  {
   "cell_type": "code",
   "execution_count": 15,
   "metadata": {},
   "outputs": [],
   "source": [
    "# Replicate the training state for executing on multiple devices\n",
    "pstate = flax.jax_utils.replicate(state)"
   ]
  },
  {
   "cell_type": "code",
   "execution_count": 16,
   "metadata": {},
   "outputs": [
    {
     "name": "stderr",
     "output_type": "stream",
     "text": [
      "/tmp/ipykernel_45519/1663449432.py:17: FutureWarning: jax.tree_map is deprecated, and will be removed in a future release. Use jax.tree_util.tree_map instead.\n",
      "  eval_batch = jax.tree_map(lambda x: scaler(x._numpy()), batch)\n",
      "/home/cyanos/Workspace/OOD_Generative_models/score_flow-main/venv/lib/python3.10/site-packages/flax/jax_utils.py:61: FutureWarning: jax.tree_map is deprecated, and will be removed in a future release. Use jax.tree_util.tree_map instead.\n",
      "  return jax.tree_map(lambda x: x[0], tree)\n",
      "2022-08-11 15:14:17.468108: W external/org_tensorflow/tensorflow/core/common_runtime/bfc_allocator.cc:290] Allocator (GPU_0_bfc) ran out of memory trying to allocate 1.76GiB with freed_by_count=0. The caller indicates that this is not a failure, but this may mean that there could be performance gains if more memory were available.\n",
      "2022-08-11 15:14:17.716735: W external/org_tensorflow/tensorflow/core/common_runtime/bfc_allocator.cc:290] Allocator (GPU_0_bfc) ran out of memory trying to allocate 2.40GiB with freed_by_count=0. The caller indicates that this is not a failure, but this may mean that there could be performance gains if more memory were available.\n",
      "/home/cyanos/Workspace/OOD_Generative_models/score_flow-main/venv/lib/python3.10/site-packages/flax/serialization.py:331: FutureWarning: jax.tree_map is deprecated, and will be removed in a future release. Use jax.tree_util.tree_map instead.\n",
      "  pytree = jax.tree_map(lambda x: x, pytree)\n"
     ]
    },
    {
     "ename": "KeyboardInterrupt",
     "evalue": "",
     "output_type": "error",
     "traceback": [
      "\u001b[0;31m---------------------------------------------------------------------------\u001b[0m",
      "\u001b[0;31mKeyboardInterrupt\u001b[0m                         Traceback (most recent call last)",
      "\u001b[1;32m/home/cyanos/Workspace/OOD_Generative_models/score_flow-main/Do_deep_generative_models_know_what_they_dont_know.ipynb Cell 16'\u001b[0m in \u001b[0;36m<cell line: 2>\u001b[0;34m()\u001b[0m\n\u001b[1;32m     <a href='vscode-notebook-cell:/home/cyanos/Workspace/OOD_Generative_models/score_flow-main/Do_deep_generative_models_know_what_they_dont_know.ipynb#ch0000011?line=29'>30</a>\u001b[0m rng, \u001b[39m*\u001b[39mstep_rng \u001b[39m=\u001b[39m jax\u001b[39m.\u001b[39mrandom\u001b[39m.\u001b[39msplit(rng, jax\u001b[39m.\u001b[39mlocal_device_count() \u001b[39m+\u001b[39m \u001b[39m1\u001b[39m)\n\u001b[1;32m     <a href='vscode-notebook-cell:/home/cyanos/Workspace/OOD_Generative_models/score_flow-main/Do_deep_generative_models_know_what_they_dont_know.ipynb#ch0000011?line=30'>31</a>\u001b[0m step_rng \u001b[39m=\u001b[39m jnp\u001b[39m.\u001b[39masarray(step_rng)\n\u001b[0;32m---> <a href='vscode-notebook-cell:/home/cyanos/Workspace/OOD_Generative_models/score_flow-main/Do_deep_generative_models_know_what_they_dont_know.ipynb#ch0000011?line=31'>32</a>\u001b[0m bpd \u001b[39m=\u001b[39m likelihood_fn(step_rng, pstate, data)[\u001b[39m0\u001b[39m]\n\u001b[1;32m     <a href='vscode-notebook-cell:/home/cyanos/Workspace/OOD_Generative_models/score_flow-main/Do_deep_generative_models_know_what_they_dont_know.ipynb#ch0000011?line=32'>33</a>\u001b[0m \u001b[39m# if config.eval.dequantizer:\u001b[39;00m\n\u001b[1;32m     <a href='vscode-notebook-cell:/home/cyanos/Workspace/OOD_Generative_models/score_flow-main/Do_deep_generative_models_know_what_they_dont_know.ipynb#ch0000011?line=33'>34</a>\u001b[0m \u001b[39m#   bpd = bpd + bpd_d\u001b[39;00m\n\u001b[1;32m     <a href='vscode-notebook-cell:/home/cyanos/Workspace/OOD_Generative_models/score_flow-main/Do_deep_generative_models_know_what_they_dont_know.ipynb#ch0000011?line=34'>35</a>\u001b[0m bpd \u001b[39m=\u001b[39m bpd\u001b[39m.\u001b[39mreshape(\u001b[39m-\u001b[39m\u001b[39m1\u001b[39m)\n",
      "File \u001b[0;32m~/Workspace/OOD_Generative_models/score_flow-main/likelihood.py:100\u001b[0m, in \u001b[0;36mget_likelihood_fn.<locals>.likelihood_fn\u001b[0;34m(prng, pstate, data)\u001b[0m\n\u001b[1;32m     <a href='file:///home/cyanos/Workspace/OOD_Generative_models/score_flow-main/likelihood.py?line=96'>97</a>\u001b[0m   \u001b[39mreturn\u001b[39;00m np\u001b[39m.\u001b[39mconcatenate([drift, logp_grad], axis\u001b[39m=\u001b[39m\u001b[39m0\u001b[39m)\n\u001b[1;32m     <a href='file:///home/cyanos/Workspace/OOD_Generative_models/score_flow-main/likelihood.py?line=98'>99</a>\u001b[0m init \u001b[39m=\u001b[39m jnp\u001b[39m.\u001b[39mconcatenate([mutils\u001b[39m.\u001b[39mto_flattened_numpy(data), np\u001b[39m.\u001b[39mzeros((shape[\u001b[39m0\u001b[39m] \u001b[39m*\u001b[39m shape[\u001b[39m1\u001b[39m],))], axis\u001b[39m=\u001b[39m\u001b[39m0\u001b[39m)\n\u001b[0;32m--> <a href='file:///home/cyanos/Workspace/OOD_Generative_models/score_flow-main/likelihood.py?line=99'>100</a>\u001b[0m solution \u001b[39m=\u001b[39m integrate\u001b[39m.\u001b[39;49msolve_ivp(ode_func, (eps, sde\u001b[39m.\u001b[39;49mT), init, rtol\u001b[39m=\u001b[39;49mrtol, atol\u001b[39m=\u001b[39;49matol, method\u001b[39m=\u001b[39;49mmethod)\n\u001b[1;32m    <a href='file:///home/cyanos/Workspace/OOD_Generative_models/score_flow-main/likelihood.py?line=100'>101</a>\u001b[0m nfe \u001b[39m=\u001b[39m solution\u001b[39m.\u001b[39mnfev\n\u001b[1;32m    <a href='file:///home/cyanos/Workspace/OOD_Generative_models/score_flow-main/likelihood.py?line=101'>102</a>\u001b[0m t \u001b[39m=\u001b[39m solution\u001b[39m.\u001b[39mt\n",
      "File \u001b[0;32m~/Workspace/OOD_Generative_models/score_flow-main/venv/lib/python3.10/site-packages/scipy/integrate/_ivp/ivp.py:589\u001b[0m, in \u001b[0;36msolve_ivp\u001b[0;34m(fun, t_span, y0, method, t_eval, dense_output, events, vectorized, args, **options)\u001b[0m\n\u001b[1;32m    <a href='file:///home/cyanos/Workspace/OOD_Generative_models/score_flow-main/venv/lib/python3.10/site-packages/scipy/integrate/_ivp/ivp.py?line=586'>587</a>\u001b[0m status \u001b[39m=\u001b[39m \u001b[39mNone\u001b[39;00m\n\u001b[1;32m    <a href='file:///home/cyanos/Workspace/OOD_Generative_models/score_flow-main/venv/lib/python3.10/site-packages/scipy/integrate/_ivp/ivp.py?line=587'>588</a>\u001b[0m \u001b[39mwhile\u001b[39;00m status \u001b[39mis\u001b[39;00m \u001b[39mNone\u001b[39;00m:\n\u001b[0;32m--> <a href='file:///home/cyanos/Workspace/OOD_Generative_models/score_flow-main/venv/lib/python3.10/site-packages/scipy/integrate/_ivp/ivp.py?line=588'>589</a>\u001b[0m     message \u001b[39m=\u001b[39m solver\u001b[39m.\u001b[39;49mstep()\n\u001b[1;32m    <a href='file:///home/cyanos/Workspace/OOD_Generative_models/score_flow-main/venv/lib/python3.10/site-packages/scipy/integrate/_ivp/ivp.py?line=590'>591</a>\u001b[0m     \u001b[39mif\u001b[39;00m solver\u001b[39m.\u001b[39mstatus \u001b[39m==\u001b[39m \u001b[39m'\u001b[39m\u001b[39mfinished\u001b[39m\u001b[39m'\u001b[39m:\n\u001b[1;32m    <a href='file:///home/cyanos/Workspace/OOD_Generative_models/score_flow-main/venv/lib/python3.10/site-packages/scipy/integrate/_ivp/ivp.py?line=591'>592</a>\u001b[0m         status \u001b[39m=\u001b[39m \u001b[39m0\u001b[39m\n",
      "File \u001b[0;32m~/Workspace/OOD_Generative_models/score_flow-main/venv/lib/python3.10/site-packages/scipy/integrate/_ivp/base.py:181\u001b[0m, in \u001b[0;36mOdeSolver.step\u001b[0;34m(self)\u001b[0m\n\u001b[1;32m    <a href='file:///home/cyanos/Workspace/OOD_Generative_models/score_flow-main/venv/lib/python3.10/site-packages/scipy/integrate/_ivp/base.py?line=178'>179</a>\u001b[0m \u001b[39melse\u001b[39;00m:\n\u001b[1;32m    <a href='file:///home/cyanos/Workspace/OOD_Generative_models/score_flow-main/venv/lib/python3.10/site-packages/scipy/integrate/_ivp/base.py?line=179'>180</a>\u001b[0m     t \u001b[39m=\u001b[39m \u001b[39mself\u001b[39m\u001b[39m.\u001b[39mt\n\u001b[0;32m--> <a href='file:///home/cyanos/Workspace/OOD_Generative_models/score_flow-main/venv/lib/python3.10/site-packages/scipy/integrate/_ivp/base.py?line=180'>181</a>\u001b[0m     success, message \u001b[39m=\u001b[39m \u001b[39mself\u001b[39;49m\u001b[39m.\u001b[39;49m_step_impl()\n\u001b[1;32m    <a href='file:///home/cyanos/Workspace/OOD_Generative_models/score_flow-main/venv/lib/python3.10/site-packages/scipy/integrate/_ivp/base.py?line=182'>183</a>\u001b[0m     \u001b[39mif\u001b[39;00m \u001b[39mnot\u001b[39;00m success:\n\u001b[1;32m    <a href='file:///home/cyanos/Workspace/OOD_Generative_models/score_flow-main/venv/lib/python3.10/site-packages/scipy/integrate/_ivp/base.py?line=183'>184</a>\u001b[0m         \u001b[39mself\u001b[39m\u001b[39m.\u001b[39mstatus \u001b[39m=\u001b[39m \u001b[39m'\u001b[39m\u001b[39mfailed\u001b[39m\u001b[39m'\u001b[39m\n",
      "File \u001b[0;32m~/Workspace/OOD_Generative_models/score_flow-main/venv/lib/python3.10/site-packages/scipy/integrate/_ivp/rk.py:144\u001b[0m, in \u001b[0;36mRungeKutta._step_impl\u001b[0;34m(self)\u001b[0m\n\u001b[1;32m    <a href='file:///home/cyanos/Workspace/OOD_Generative_models/score_flow-main/venv/lib/python3.10/site-packages/scipy/integrate/_ivp/rk.py?line=140'>141</a>\u001b[0m h \u001b[39m=\u001b[39m t_new \u001b[39m-\u001b[39m t\n\u001b[1;32m    <a href='file:///home/cyanos/Workspace/OOD_Generative_models/score_flow-main/venv/lib/python3.10/site-packages/scipy/integrate/_ivp/rk.py?line=141'>142</a>\u001b[0m h_abs \u001b[39m=\u001b[39m np\u001b[39m.\u001b[39mabs(h)\n\u001b[0;32m--> <a href='file:///home/cyanos/Workspace/OOD_Generative_models/score_flow-main/venv/lib/python3.10/site-packages/scipy/integrate/_ivp/rk.py?line=143'>144</a>\u001b[0m y_new, f_new \u001b[39m=\u001b[39m rk_step(\u001b[39mself\u001b[39;49m\u001b[39m.\u001b[39;49mfun, t, y, \u001b[39mself\u001b[39;49m\u001b[39m.\u001b[39;49mf, h, \u001b[39mself\u001b[39;49m\u001b[39m.\u001b[39;49mA,\n\u001b[1;32m    <a href='file:///home/cyanos/Workspace/OOD_Generative_models/score_flow-main/venv/lib/python3.10/site-packages/scipy/integrate/_ivp/rk.py?line=144'>145</a>\u001b[0m                        \u001b[39mself\u001b[39;49m\u001b[39m.\u001b[39;49mB, \u001b[39mself\u001b[39;49m\u001b[39m.\u001b[39;49mC, \u001b[39mself\u001b[39;49m\u001b[39m.\u001b[39;49mK)\n\u001b[1;32m    <a href='file:///home/cyanos/Workspace/OOD_Generative_models/score_flow-main/venv/lib/python3.10/site-packages/scipy/integrate/_ivp/rk.py?line=145'>146</a>\u001b[0m scale \u001b[39m=\u001b[39m atol \u001b[39m+\u001b[39m np\u001b[39m.\u001b[39mmaximum(np\u001b[39m.\u001b[39mabs(y), np\u001b[39m.\u001b[39mabs(y_new)) \u001b[39m*\u001b[39m rtol\n\u001b[1;32m    <a href='file:///home/cyanos/Workspace/OOD_Generative_models/score_flow-main/venv/lib/python3.10/site-packages/scipy/integrate/_ivp/rk.py?line=146'>147</a>\u001b[0m error_norm \u001b[39m=\u001b[39m \u001b[39mself\u001b[39m\u001b[39m.\u001b[39m_estimate_error_norm(\u001b[39mself\u001b[39m\u001b[39m.\u001b[39mK, h, scale)\n",
      "File \u001b[0;32m~/Workspace/OOD_Generative_models/score_flow-main/venv/lib/python3.10/site-packages/scipy/integrate/_ivp/rk.py:64\u001b[0m, in \u001b[0;36mrk_step\u001b[0;34m(fun, t, y, f, h, A, B, C, K)\u001b[0m\n\u001b[1;32m     <a href='file:///home/cyanos/Workspace/OOD_Generative_models/score_flow-main/venv/lib/python3.10/site-packages/scipy/integrate/_ivp/rk.py?line=61'>62</a>\u001b[0m \u001b[39mfor\u001b[39;00m s, (a, c) \u001b[39min\u001b[39;00m \u001b[39menumerate\u001b[39m(\u001b[39mzip\u001b[39m(A[\u001b[39m1\u001b[39m:], C[\u001b[39m1\u001b[39m:]), start\u001b[39m=\u001b[39m\u001b[39m1\u001b[39m):\n\u001b[1;32m     <a href='file:///home/cyanos/Workspace/OOD_Generative_models/score_flow-main/venv/lib/python3.10/site-packages/scipy/integrate/_ivp/rk.py?line=62'>63</a>\u001b[0m     dy \u001b[39m=\u001b[39m np\u001b[39m.\u001b[39mdot(K[:s]\u001b[39m.\u001b[39mT, a[:s]) \u001b[39m*\u001b[39m h\n\u001b[0;32m---> <a href='file:///home/cyanos/Workspace/OOD_Generative_models/score_flow-main/venv/lib/python3.10/site-packages/scipy/integrate/_ivp/rk.py?line=63'>64</a>\u001b[0m     K[s] \u001b[39m=\u001b[39m fun(t \u001b[39m+\u001b[39;49m c \u001b[39m*\u001b[39;49m h, y \u001b[39m+\u001b[39;49m dy)\n\u001b[1;32m     <a href='file:///home/cyanos/Workspace/OOD_Generative_models/score_flow-main/venv/lib/python3.10/site-packages/scipy/integrate/_ivp/rk.py?line=65'>66</a>\u001b[0m y_new \u001b[39m=\u001b[39m y \u001b[39m+\u001b[39m h \u001b[39m*\u001b[39m np\u001b[39m.\u001b[39mdot(K[:\u001b[39m-\u001b[39m\u001b[39m1\u001b[39m]\u001b[39m.\u001b[39mT, B)\n\u001b[1;32m     <a href='file:///home/cyanos/Workspace/OOD_Generative_models/score_flow-main/venv/lib/python3.10/site-packages/scipy/integrate/_ivp/rk.py?line=66'>67</a>\u001b[0m f_new \u001b[39m=\u001b[39m fun(t \u001b[39m+\u001b[39m h, y_new)\n",
      "File \u001b[0;32m~/Workspace/OOD_Generative_models/score_flow-main/venv/lib/python3.10/site-packages/scipy/integrate/_ivp/base.py:138\u001b[0m, in \u001b[0;36mOdeSolver.__init__.<locals>.fun\u001b[0;34m(t, y)\u001b[0m\n\u001b[1;32m    <a href='file:///home/cyanos/Workspace/OOD_Generative_models/score_flow-main/venv/lib/python3.10/site-packages/scipy/integrate/_ivp/base.py?line=135'>136</a>\u001b[0m \u001b[39mdef\u001b[39;00m \u001b[39mfun\u001b[39m(t, y):\n\u001b[1;32m    <a href='file:///home/cyanos/Workspace/OOD_Generative_models/score_flow-main/venv/lib/python3.10/site-packages/scipy/integrate/_ivp/base.py?line=136'>137</a>\u001b[0m     \u001b[39mself\u001b[39m\u001b[39m.\u001b[39mnfev \u001b[39m+\u001b[39m\u001b[39m=\u001b[39m \u001b[39m1\u001b[39m\n\u001b[0;32m--> <a href='file:///home/cyanos/Workspace/OOD_Generative_models/score_flow-main/venv/lib/python3.10/site-packages/scipy/integrate/_ivp/base.py?line=137'>138</a>\u001b[0m     \u001b[39mreturn\u001b[39;00m \u001b[39mself\u001b[39;49m\u001b[39m.\u001b[39;49mfun_single(t, y)\n",
      "File \u001b[0;32m~/Workspace/OOD_Generative_models/score_flow-main/venv/lib/python3.10/site-packages/scipy/integrate/_ivp/base.py:20\u001b[0m, in \u001b[0;36mcheck_arguments.<locals>.fun_wrapped\u001b[0;34m(t, y)\u001b[0m\n\u001b[1;32m     <a href='file:///home/cyanos/Workspace/OOD_Generative_models/score_flow-main/venv/lib/python3.10/site-packages/scipy/integrate/_ivp/base.py?line=18'>19</a>\u001b[0m \u001b[39mdef\u001b[39;00m \u001b[39mfun_wrapped\u001b[39m(t, y):\n\u001b[0;32m---> <a href='file:///home/cyanos/Workspace/OOD_Generative_models/score_flow-main/venv/lib/python3.10/site-packages/scipy/integrate/_ivp/base.py?line=19'>20</a>\u001b[0m     \u001b[39mreturn\u001b[39;00m np\u001b[39m.\u001b[39masarray(fun(t, y), dtype\u001b[39m=\u001b[39mdtype)\n",
      "File \u001b[0;32m~/Workspace/OOD_Generative_models/score_flow-main/likelihood.py:95\u001b[0m, in \u001b[0;36mget_likelihood_fn.<locals>.likelihood_fn.<locals>.ode_func\u001b[0;34m(t, x)\u001b[0m\n\u001b[1;32m     <a href='file:///home/cyanos/Workspace/OOD_Generative_models/score_flow-main/likelihood.py?line=92'>93</a>\u001b[0m vec_t \u001b[39m=\u001b[39m jnp\u001b[39m.\u001b[39mones((sample\u001b[39m.\u001b[39mshape[\u001b[39m0\u001b[39m], sample\u001b[39m.\u001b[39mshape[\u001b[39m1\u001b[39m])) \u001b[39m*\u001b[39m t\n\u001b[1;32m     <a href='file:///home/cyanos/Workspace/OOD_Generative_models/score_flow-main/likelihood.py?line=93'>94</a>\u001b[0m drift, logp_grad \u001b[39m=\u001b[39m p_value_div_fn(pstate, sample, vec_t, epsilon)\n\u001b[0;32m---> <a href='file:///home/cyanos/Workspace/OOD_Generative_models/score_flow-main/likelihood.py?line=94'>95</a>\u001b[0m drift \u001b[39m=\u001b[39m mutils\u001b[39m.\u001b[39;49mto_flattened_numpy(drift)\n\u001b[1;32m     <a href='file:///home/cyanos/Workspace/OOD_Generative_models/score_flow-main/likelihood.py?line=95'>96</a>\u001b[0m logp_grad \u001b[39m=\u001b[39m mutils\u001b[39m.\u001b[39mto_flattened_numpy(logp_grad)\n\u001b[1;32m     <a href='file:///home/cyanos/Workspace/OOD_Generative_models/score_flow-main/likelihood.py?line=96'>97</a>\u001b[0m \u001b[39mreturn\u001b[39;00m np\u001b[39m.\u001b[39mconcatenate([drift, logp_grad], axis\u001b[39m=\u001b[39m\u001b[39m0\u001b[39m)\n",
      "File \u001b[0;32m~/Workspace/OOD_Generative_models/score_flow-main/models/utils.py:298\u001b[0m, in \u001b[0;36mto_flattened_numpy\u001b[0;34m(x)\u001b[0m\n\u001b[1;32m    <a href='file:///home/cyanos/Workspace/OOD_Generative_models/score_flow-main/models/utils.py?line=295'>296</a>\u001b[0m \u001b[39mdef\u001b[39;00m \u001b[39mto_flattened_numpy\u001b[39m(x):\n\u001b[1;32m    <a href='file:///home/cyanos/Workspace/OOD_Generative_models/score_flow-main/models/utils.py?line=296'>297</a>\u001b[0m   \u001b[39m\"\"\"Flatten a JAX array `x` and convert it to numpy.\"\"\"\u001b[39;00m\n\u001b[0;32m--> <a href='file:///home/cyanos/Workspace/OOD_Generative_models/score_flow-main/models/utils.py?line=297'>298</a>\u001b[0m   \u001b[39mreturn\u001b[39;00m np\u001b[39m.\u001b[39masarray(x\u001b[39m.\u001b[39;49mreshape((\u001b[39m-\u001b[39;49m\u001b[39m1\u001b[39;49m,)), dtype\u001b[39m=\u001b[39mnp\u001b[39m.\u001b[39mfloat64)\n",
      "File \u001b[0;32m~/Workspace/OOD_Generative_models/score_flow-main/venv/lib/python3.10/site-packages/jax/_src/numpy/lax_numpy.py:761\u001b[0m, in \u001b[0;36m_reshape\u001b[0;34m(a, order, *args)\u001b[0m\n\u001b[1;32m    <a href='file:///home/cyanos/Workspace/OOD_Generative_models/score_flow-main/venv/lib/python3.10/site-packages/jax/_src/numpy/lax_numpy.py?line=758'>759</a>\u001b[0m newshape \u001b[39m=\u001b[39m _compute_newshape(a, args[\u001b[39m0\u001b[39m] \u001b[39mif\u001b[39;00m \u001b[39mlen\u001b[39m(args) \u001b[39m==\u001b[39m \u001b[39m1\u001b[39m \u001b[39melse\u001b[39;00m args)\n\u001b[1;32m    <a href='file:///home/cyanos/Workspace/OOD_Generative_models/score_flow-main/venv/lib/python3.10/site-packages/jax/_src/numpy/lax_numpy.py?line=759'>760</a>\u001b[0m \u001b[39mif\u001b[39;00m order \u001b[39m==\u001b[39m \u001b[39m\"\u001b[39m\u001b[39mC\u001b[39m\u001b[39m\"\u001b[39m:\n\u001b[0;32m--> <a href='file:///home/cyanos/Workspace/OOD_Generative_models/score_flow-main/venv/lib/python3.10/site-packages/jax/_src/numpy/lax_numpy.py?line=760'>761</a>\u001b[0m   \u001b[39mreturn\u001b[39;00m lax\u001b[39m.\u001b[39;49mreshape(a, newshape, \u001b[39mNone\u001b[39;49;00m)\n\u001b[1;32m    <a href='file:///home/cyanos/Workspace/OOD_Generative_models/score_flow-main/venv/lib/python3.10/site-packages/jax/_src/numpy/lax_numpy.py?line=761'>762</a>\u001b[0m \u001b[39melif\u001b[39;00m order \u001b[39m==\u001b[39m \u001b[39m\"\u001b[39m\u001b[39mF\u001b[39m\u001b[39m\"\u001b[39m:\n\u001b[1;32m    <a href='file:///home/cyanos/Workspace/OOD_Generative_models/score_flow-main/venv/lib/python3.10/site-packages/jax/_src/numpy/lax_numpy.py?line=762'>763</a>\u001b[0m   dims \u001b[39m=\u001b[39m np\u001b[39m.\u001b[39marange(ndim(a))[::\u001b[39m-\u001b[39m\u001b[39m1\u001b[39m]\n",
      "File \u001b[0;32m~/Workspace/OOD_Generative_models/score_flow-main/venv/lib/python3.10/site-packages/jax/_src/lax/lax.py:851\u001b[0m, in \u001b[0;36mreshape\u001b[0;34m(operand, new_sizes, dimensions)\u001b[0m\n\u001b[1;32m    <a href='file:///home/cyanos/Workspace/OOD_Generative_models/score_flow-main/venv/lib/python3.10/site-packages/jax/_src/lax/lax.py?line=847'>848</a>\u001b[0m \u001b[39melse\u001b[39;00m:\n\u001b[1;32m    <a href='file:///home/cyanos/Workspace/OOD_Generative_models/score_flow-main/venv/lib/python3.10/site-packages/jax/_src/lax/lax.py?line=848'>849</a>\u001b[0m   dyn_shape, static_new_sizes \u001b[39m=\u001b[39m _extract_tracers_dyn_shape(new_sizes)\n\u001b[0;32m--> <a href='file:///home/cyanos/Workspace/OOD_Generative_models/score_flow-main/venv/lib/python3.10/site-packages/jax/_src/lax/lax.py?line=850'>851</a>\u001b[0m   \u001b[39mreturn\u001b[39;00m reshape_p\u001b[39m.\u001b[39;49mbind(\n\u001b[1;32m    <a href='file:///home/cyanos/Workspace/OOD_Generative_models/score_flow-main/venv/lib/python3.10/site-packages/jax/_src/lax/lax.py?line=851'>852</a>\u001b[0m     operand, \u001b[39m*\u001b[39;49mdyn_shape, new_sizes\u001b[39m=\u001b[39;49m\u001b[39mtuple\u001b[39;49m(static_new_sizes),\n\u001b[1;32m    <a href='file:///home/cyanos/Workspace/OOD_Generative_models/score_flow-main/venv/lib/python3.10/site-packages/jax/_src/lax/lax.py?line=852'>853</a>\u001b[0m     dimensions\u001b[39m=\u001b[39;49m\u001b[39mNone\u001b[39;49;00m \u001b[39mif\u001b[39;49;00m dims \u001b[39mis\u001b[39;49;00m \u001b[39mNone\u001b[39;49;00m \u001b[39mor\u001b[39;49;00m same_dims \u001b[39melse\u001b[39;49;00m dims)\n",
      "File \u001b[0;32m~/Workspace/OOD_Generative_models/score_flow-main/venv/lib/python3.10/site-packages/jax/core.py:324\u001b[0m, in \u001b[0;36mPrimitive.bind\u001b[0;34m(self, *args, **params)\u001b[0m\n\u001b[1;32m    <a href='file:///home/cyanos/Workspace/OOD_Generative_models/score_flow-main/venv/lib/python3.10/site-packages/jax/core.py?line=320'>321</a>\u001b[0m \u001b[39mdef\u001b[39;00m \u001b[39mbind\u001b[39m(\u001b[39mself\u001b[39m, \u001b[39m*\u001b[39margs, \u001b[39m*\u001b[39m\u001b[39m*\u001b[39mparams):\n\u001b[1;32m    <a href='file:///home/cyanos/Workspace/OOD_Generative_models/score_flow-main/venv/lib/python3.10/site-packages/jax/core.py?line=321'>322</a>\u001b[0m   \u001b[39massert\u001b[39;00m (\u001b[39mnot\u001b[39;00m config\u001b[39m.\u001b[39mjax_enable_checks \u001b[39mor\u001b[39;00m\n\u001b[1;32m    <a href='file:///home/cyanos/Workspace/OOD_Generative_models/score_flow-main/venv/lib/python3.10/site-packages/jax/core.py?line=322'>323</a>\u001b[0m           \u001b[39mall\u001b[39m(\u001b[39misinstance\u001b[39m(arg, Tracer) \u001b[39mor\u001b[39;00m valid_jaxtype(arg) \u001b[39mfor\u001b[39;00m arg \u001b[39min\u001b[39;00m args)), args\n\u001b[0;32m--> <a href='file:///home/cyanos/Workspace/OOD_Generative_models/score_flow-main/venv/lib/python3.10/site-packages/jax/core.py?line=323'>324</a>\u001b[0m   \u001b[39mreturn\u001b[39;00m \u001b[39mself\u001b[39;49m\u001b[39m.\u001b[39;49mbind_with_trace(find_top_trace(args), args, params)\n",
      "File \u001b[0;32m~/Workspace/OOD_Generative_models/score_flow-main/venv/lib/python3.10/site-packages/jax/core.py:327\u001b[0m, in \u001b[0;36mPrimitive.bind_with_trace\u001b[0;34m(self, trace, args, params)\u001b[0m\n\u001b[1;32m    <a href='file:///home/cyanos/Workspace/OOD_Generative_models/score_flow-main/venv/lib/python3.10/site-packages/jax/core.py?line=325'>326</a>\u001b[0m \u001b[39mdef\u001b[39;00m \u001b[39mbind_with_trace\u001b[39m(\u001b[39mself\u001b[39m, trace, args, params):\n\u001b[0;32m--> <a href='file:///home/cyanos/Workspace/OOD_Generative_models/score_flow-main/venv/lib/python3.10/site-packages/jax/core.py?line=326'>327</a>\u001b[0m   out \u001b[39m=\u001b[39m trace\u001b[39m.\u001b[39;49mprocess_primitive(\u001b[39mself\u001b[39;49m, \u001b[39mmap\u001b[39;49m(trace\u001b[39m.\u001b[39;49mfull_raise, args), params)\n\u001b[1;32m    <a href='file:///home/cyanos/Workspace/OOD_Generative_models/score_flow-main/venv/lib/python3.10/site-packages/jax/core.py?line=327'>328</a>\u001b[0m   \u001b[39mreturn\u001b[39;00m \u001b[39mmap\u001b[39m(full_lower, out) \u001b[39mif\u001b[39;00m \u001b[39mself\u001b[39m\u001b[39m.\u001b[39mmultiple_results \u001b[39melse\u001b[39;00m full_lower(out)\n",
      "File \u001b[0;32m~/Workspace/OOD_Generative_models/score_flow-main/venv/lib/python3.10/site-packages/jax/core.py:684\u001b[0m, in \u001b[0;36mEvalTrace.process_primitive\u001b[0;34m(self, primitive, tracers, params)\u001b[0m\n\u001b[1;32m    <a href='file:///home/cyanos/Workspace/OOD_Generative_models/score_flow-main/venv/lib/python3.10/site-packages/jax/core.py?line=682'>683</a>\u001b[0m \u001b[39mdef\u001b[39;00m \u001b[39mprocess_primitive\u001b[39m(\u001b[39mself\u001b[39m, primitive, tracers, params):\n\u001b[0;32m--> <a href='file:///home/cyanos/Workspace/OOD_Generative_models/score_flow-main/venv/lib/python3.10/site-packages/jax/core.py?line=683'>684</a>\u001b[0m   \u001b[39mreturn\u001b[39;00m primitive\u001b[39m.\u001b[39;49mimpl(\u001b[39m*\u001b[39;49mtracers, \u001b[39m*\u001b[39;49m\u001b[39m*\u001b[39;49mparams)\n",
      "File \u001b[0;32m~/Workspace/OOD_Generative_models/score_flow-main/venv/lib/python3.10/site-packages/jax/_src/dispatch.py:101\u001b[0m, in \u001b[0;36mapply_primitive\u001b[0;34m(prim, *args, **params)\u001b[0m\n\u001b[1;32m     <a href='file:///home/cyanos/Workspace/OOD_Generative_models/score_flow-main/venv/lib/python3.10/site-packages/jax/_src/dispatch.py?line=97'>98</a>\u001b[0m \u001b[39m\"\"\"Impl rule that compiles and runs a single primitive 'prim' using XLA.\"\"\"\u001b[39;00m\n\u001b[1;32m     <a href='file:///home/cyanos/Workspace/OOD_Generative_models/score_flow-main/venv/lib/python3.10/site-packages/jax/_src/dispatch.py?line=98'>99</a>\u001b[0m compiled_fun \u001b[39m=\u001b[39m xla_primitive_callable(prim, \u001b[39m*\u001b[39munsafe_map(arg_spec, args),\n\u001b[1;32m    <a href='file:///home/cyanos/Workspace/OOD_Generative_models/score_flow-main/venv/lib/python3.10/site-packages/jax/_src/dispatch.py?line=99'>100</a>\u001b[0m                                       \u001b[39m*\u001b[39m\u001b[39m*\u001b[39mparams)\n\u001b[0;32m--> <a href='file:///home/cyanos/Workspace/OOD_Generative_models/score_flow-main/venv/lib/python3.10/site-packages/jax/_src/dispatch.py?line=100'>101</a>\u001b[0m \u001b[39mreturn\u001b[39;00m compiled_fun(\u001b[39m*\u001b[39;49margs)\n",
      "File \u001b[0;32m~/Workspace/OOD_Generative_models/score_flow-main/venv/lib/python3.10/site-packages/jax/_src/dispatch.py:167\u001b[0m, in \u001b[0;36mxla_primitive_callable.<locals>.<lambda>\u001b[0;34m(*args, **kw)\u001b[0m\n\u001b[1;32m    <a href='file:///home/cyanos/Workspace/OOD_Generative_models/score_flow-main/venv/lib/python3.10/site-packages/jax/_src/dispatch.py?line=163'>164</a>\u001b[0m compiled \u001b[39m=\u001b[39m _xla_callable_uncached(lu\u001b[39m.\u001b[39mwrap_init(prim_fun), device, \u001b[39mNone\u001b[39;00m,\n\u001b[1;32m    <a href='file:///home/cyanos/Workspace/OOD_Generative_models/score_flow-main/venv/lib/python3.10/site-packages/jax/_src/dispatch.py?line=164'>165</a>\u001b[0m                                   prim\u001b[39m.\u001b[39mname, donated_invars, \u001b[39mFalse\u001b[39;00m, \u001b[39m*\u001b[39marg_specs)\n\u001b[1;32m    <a href='file:///home/cyanos/Workspace/OOD_Generative_models/score_flow-main/venv/lib/python3.10/site-packages/jax/_src/dispatch.py?line=165'>166</a>\u001b[0m \u001b[39mif\u001b[39;00m \u001b[39mnot\u001b[39;00m prim\u001b[39m.\u001b[39mmultiple_results:\n\u001b[0;32m--> <a href='file:///home/cyanos/Workspace/OOD_Generative_models/score_flow-main/venv/lib/python3.10/site-packages/jax/_src/dispatch.py?line=166'>167</a>\u001b[0m   \u001b[39mreturn\u001b[39;00m \u001b[39mlambda\u001b[39;00m \u001b[39m*\u001b[39margs, \u001b[39m*\u001b[39m\u001b[39m*\u001b[39mkw: compiled(\u001b[39m*\u001b[39;49margs, \u001b[39m*\u001b[39;49m\u001b[39m*\u001b[39;49mkw)[\u001b[39m0\u001b[39m]\n\u001b[1;32m    <a href='file:///home/cyanos/Workspace/OOD_Generative_models/score_flow-main/venv/lib/python3.10/site-packages/jax/_src/dispatch.py?line=167'>168</a>\u001b[0m \u001b[39melse\u001b[39;00m:\n\u001b[1;32m    <a href='file:///home/cyanos/Workspace/OOD_Generative_models/score_flow-main/venv/lib/python3.10/site-packages/jax/_src/dispatch.py?line=168'>169</a>\u001b[0m   \u001b[39mreturn\u001b[39;00m compiled\n",
      "File \u001b[0;32m~/Workspace/OOD_Generative_models/score_flow-main/venv/lib/python3.10/site-packages/jax/_src/dispatch.py:728\u001b[0m, in \u001b[0;36m_execute_compiled\u001b[0;34m(name, compiled, input_handler, output_buffer_counts, result_handler, has_unordered_effects, ordered_effects, kept_var_idx, *args)\u001b[0m\n\u001b[1;32m    <a href='file:///home/cyanos/Workspace/OOD_Generative_models/score_flow-main/venv/lib/python3.10/site-packages/jax/_src/dispatch.py?line=725'>726</a>\u001b[0m device, \u001b[39m=\u001b[39m compiled\u001b[39m.\u001b[39mlocal_devices()\n\u001b[1;32m    <a href='file:///home/cyanos/Workspace/OOD_Generative_models/score_flow-main/venv/lib/python3.10/site-packages/jax/_src/dispatch.py?line=726'>727</a>\u001b[0m args, env \u001b[39m=\u001b[39m input_handler(args) \u001b[39mif\u001b[39;00m input_handler \u001b[39melse\u001b[39;00m (args, \u001b[39mNone\u001b[39;00m)\n\u001b[0;32m--> <a href='file:///home/cyanos/Workspace/OOD_Generative_models/score_flow-main/venv/lib/python3.10/site-packages/jax/_src/dispatch.py?line=727'>728</a>\u001b[0m in_flat \u001b[39m=\u001b[39m flatten(device_put(x, device) \u001b[39mfor\u001b[39;49;00m i, x \u001b[39min\u001b[39;49;00m \u001b[39menumerate\u001b[39;49m(args)\n\u001b[1;32m    <a href='file:///home/cyanos/Workspace/OOD_Generative_models/score_flow-main/venv/lib/python3.10/site-packages/jax/_src/dispatch.py?line=728'>729</a>\u001b[0m                   \u001b[39mif\u001b[39;49;00m i \u001b[39min\u001b[39;49;00m kept_var_idx)\n\u001b[1;32m    <a href='file:///home/cyanos/Workspace/OOD_Generative_models/score_flow-main/venv/lib/python3.10/site-packages/jax/_src/dispatch.py?line=729'>730</a>\u001b[0m \u001b[39mif\u001b[39;00m has_unordered_effects \u001b[39mor\u001b[39;00m ordered_effects:\n\u001b[1;32m    <a href='file:///home/cyanos/Workspace/OOD_Generative_models/score_flow-main/venv/lib/python3.10/site-packages/jax/_src/dispatch.py?line=730'>731</a>\u001b[0m   in_flat, token_handler \u001b[39m=\u001b[39m _add_tokens(has_unordered_effects, ordered_effects,\n\u001b[1;32m    <a href='file:///home/cyanos/Workspace/OOD_Generative_models/score_flow-main/venv/lib/python3.10/site-packages/jax/_src/dispatch.py?line=731'>732</a>\u001b[0m                                        device, in_flat)\n",
      "File \u001b[0;32m~/Workspace/OOD_Generative_models/score_flow-main/venv/lib/python3.10/site-packages/jax/_src/util.py:111\u001b[0m, in \u001b[0;36mconcatenate\u001b[0;34m(xs)\u001b[0m\n\u001b[1;32m    <a href='file:///home/cyanos/Workspace/OOD_Generative_models/score_flow-main/venv/lib/python3.10/site-packages/jax/_src/util.py?line=108'>109</a>\u001b[0m \u001b[39mdef\u001b[39;00m \u001b[39mconcatenate\u001b[39m(xs: Iterable[Sequence[T]]) \u001b[39m-\u001b[39m\u001b[39m>\u001b[39m List[T]:\n\u001b[1;32m    <a href='file:///home/cyanos/Workspace/OOD_Generative_models/score_flow-main/venv/lib/python3.10/site-packages/jax/_src/util.py?line=109'>110</a>\u001b[0m   \u001b[39m\"\"\"Concatenates/flattens a list of lists.\"\"\"\u001b[39;00m\n\u001b[0;32m--> <a href='file:///home/cyanos/Workspace/OOD_Generative_models/score_flow-main/venv/lib/python3.10/site-packages/jax/_src/util.py?line=110'>111</a>\u001b[0m   \u001b[39mreturn\u001b[39;00m \u001b[39mlist\u001b[39;49m(it\u001b[39m.\u001b[39;49mchain\u001b[39m.\u001b[39;49mfrom_iterable(xs))\n",
      "File \u001b[0;32m~/Workspace/OOD_Generative_models/score_flow-main/venv/lib/python3.10/site-packages/jax/_src/dispatch.py:728\u001b[0m, in \u001b[0;36m<genexpr>\u001b[0;34m(.0)\u001b[0m\n\u001b[1;32m    <a href='file:///home/cyanos/Workspace/OOD_Generative_models/score_flow-main/venv/lib/python3.10/site-packages/jax/_src/dispatch.py?line=725'>726</a>\u001b[0m device, \u001b[39m=\u001b[39m compiled\u001b[39m.\u001b[39mlocal_devices()\n\u001b[1;32m    <a href='file:///home/cyanos/Workspace/OOD_Generative_models/score_flow-main/venv/lib/python3.10/site-packages/jax/_src/dispatch.py?line=726'>727</a>\u001b[0m args, env \u001b[39m=\u001b[39m input_handler(args) \u001b[39mif\u001b[39;00m input_handler \u001b[39melse\u001b[39;00m (args, \u001b[39mNone\u001b[39;00m)\n\u001b[0;32m--> <a href='file:///home/cyanos/Workspace/OOD_Generative_models/score_flow-main/venv/lib/python3.10/site-packages/jax/_src/dispatch.py?line=727'>728</a>\u001b[0m in_flat \u001b[39m=\u001b[39m flatten(device_put(x, device) \u001b[39mfor\u001b[39;00m i, x \u001b[39min\u001b[39;00m \u001b[39menumerate\u001b[39m(args)\n\u001b[1;32m    <a href='file:///home/cyanos/Workspace/OOD_Generative_models/score_flow-main/venv/lib/python3.10/site-packages/jax/_src/dispatch.py?line=728'>729</a>\u001b[0m                   \u001b[39mif\u001b[39;00m i \u001b[39min\u001b[39;00m kept_var_idx)\n\u001b[1;32m    <a href='file:///home/cyanos/Workspace/OOD_Generative_models/score_flow-main/venv/lib/python3.10/site-packages/jax/_src/dispatch.py?line=729'>730</a>\u001b[0m \u001b[39mif\u001b[39;00m has_unordered_effects \u001b[39mor\u001b[39;00m ordered_effects:\n\u001b[1;32m    <a href='file:///home/cyanos/Workspace/OOD_Generative_models/score_flow-main/venv/lib/python3.10/site-packages/jax/_src/dispatch.py?line=730'>731</a>\u001b[0m   in_flat, token_handler \u001b[39m=\u001b[39m _add_tokens(has_unordered_effects, ordered_effects,\n\u001b[1;32m    <a href='file:///home/cyanos/Workspace/OOD_Generative_models/score_flow-main/venv/lib/python3.10/site-packages/jax/_src/dispatch.py?line=731'>732</a>\u001b[0m                                        device, in_flat)\n",
      "File \u001b[0;32m~/Workspace/OOD_Generative_models/score_flow-main/venv/lib/python3.10/site-packages/jax/_src/dispatch.py:999\u001b[0m, in \u001b[0;36mdevice_put\u001b[0;34m(x, device)\u001b[0m\n\u001b[1;32m    <a href='file:///home/cyanos/Workspace/OOD_Generative_models/score_flow-main/venv/lib/python3.10/site-packages/jax/_src/dispatch.py?line=996'>997</a>\u001b[0m x \u001b[39m=\u001b[39m xla\u001b[39m.\u001b[39mcanonicalize_dtype(x)\n\u001b[1;32m    <a href='file:///home/cyanos/Workspace/OOD_Generative_models/score_flow-main/venv/lib/python3.10/site-packages/jax/_src/dispatch.py?line=997'>998</a>\u001b[0m \u001b[39mtry\u001b[39;00m:\n\u001b[0;32m--> <a href='file:///home/cyanos/Workspace/OOD_Generative_models/score_flow-main/venv/lib/python3.10/site-packages/jax/_src/dispatch.py?line=998'>999</a>\u001b[0m   \u001b[39mreturn\u001b[39;00m device_put_handlers[\u001b[39mtype\u001b[39;49m(x)](x, device)\n\u001b[1;32m   <a href='file:///home/cyanos/Workspace/OOD_Generative_models/score_flow-main/venv/lib/python3.10/site-packages/jax/_src/dispatch.py?line=999'>1000</a>\u001b[0m \u001b[39mexcept\u001b[39;00m \u001b[39mKeyError\u001b[39;00m \u001b[39mas\u001b[39;00m err:\n\u001b[1;32m   <a href='file:///home/cyanos/Workspace/OOD_Generative_models/score_flow-main/venv/lib/python3.10/site-packages/jax/_src/dispatch.py?line=1000'>1001</a>\u001b[0m   \u001b[39mraise\u001b[39;00m \u001b[39mTypeError\u001b[39;00m(\u001b[39mf\u001b[39m\u001b[39m\"\u001b[39m\u001b[39mNo device_put handler for type: \u001b[39m\u001b[39m{\u001b[39;00m\u001b[39mtype\u001b[39m(x)\u001b[39m}\u001b[39;00m\u001b[39m\"\u001b[39m) \u001b[39mfrom\u001b[39;00m \u001b[39merr\u001b[39;00m\n",
      "File \u001b[0;32m~/Workspace/OOD_Generative_models/score_flow-main/venv/lib/python3.10/site-packages/jax/_src/dispatch.py:1010\u001b[0m, in \u001b[0;36m_device_put_array\u001b[0;34m(x, device)\u001b[0m\n\u001b[1;32m   <a href='file:///home/cyanos/Workspace/OOD_Generative_models/score_flow-main/venv/lib/python3.10/site-packages/jax/_src/dispatch.py?line=1007'>1008</a>\u001b[0m \u001b[39mif\u001b[39;00m x\u001b[39m.\u001b[39mdtype \u001b[39m==\u001b[39m dtypes\u001b[39m.\u001b[39mfloat0:\n\u001b[1;32m   <a href='file:///home/cyanos/Workspace/OOD_Generative_models/score_flow-main/venv/lib/python3.10/site-packages/jax/_src/dispatch.py?line=1008'>1009</a>\u001b[0m   x \u001b[39m=\u001b[39m np\u001b[39m.\u001b[39mzeros(x\u001b[39m.\u001b[39mshape, dtype\u001b[39m=\u001b[39mnp\u001b[39m.\u001b[39mdtype(\u001b[39mbool\u001b[39m))\n\u001b[0;32m-> <a href='file:///home/cyanos/Workspace/OOD_Generative_models/score_flow-main/venv/lib/python3.10/site-packages/jax/_src/dispatch.py?line=1009'>1010</a>\u001b[0m \u001b[39mreturn\u001b[39;00m (backend\u001b[39m.\u001b[39;49mbuffer_from_pyval(x, device),)\n",
      "File \u001b[0;32m~/Workspace/OOD_Generative_models/score_flow-main/venv/lib/python3.10/site-packages/jax/_src/device_array.py:265\u001b[0m, in \u001b[0;36m__array__\u001b[0;34m(self, dtype, context)\u001b[0m\n\u001b[1;32m    <a href='file:///home/cyanos/Workspace/OOD_Generative_models/score_flow-main/venv/lib/python3.10/site-packages/jax/_src/device_array.py?line=263'>264</a>\u001b[0m \u001b[39mdef\u001b[39;00m \u001b[39m__array__\u001b[39m(\u001b[39mself\u001b[39m, dtype\u001b[39m=\u001b[39m\u001b[39mNone\u001b[39;00m, context\u001b[39m=\u001b[39m\u001b[39mNone\u001b[39;00m):\n\u001b[0;32m--> <a href='file:///home/cyanos/Workspace/OOD_Generative_models/score_flow-main/venv/lib/python3.10/site-packages/jax/_src/device_array.py?line=264'>265</a>\u001b[0m   \u001b[39mreturn\u001b[39;00m np\u001b[39m.\u001b[39masarray(\u001b[39mself\u001b[39;49m\u001b[39m.\u001b[39;49m_value, dtype\u001b[39m=\u001b[39mdtype)\n",
      "File \u001b[0;32m~/Workspace/OOD_Generative_models/score_flow-main/venv/lib/python3.10/site-packages/jax/interpreters/pxla.py:708\u001b[0m, in \u001b[0;36m_sda_value\u001b[0;34m(self)\u001b[0m\n\u001b[1;32m    <a href='file:///home/cyanos/Workspace/OOD_Generative_models/score_flow-main/venv/lib/python3.10/site-packages/jax/interpreters/pxla.py?line=705'>706</a>\u001b[0m \u001b[39mdef\u001b[39;00m \u001b[39m_sda_value\u001b[39m(\u001b[39mself\u001b[39m):\n\u001b[1;32m    <a href='file:///home/cyanos/Workspace/OOD_Generative_models/score_flow-main/venv/lib/python3.10/site-packages/jax/interpreters/pxla.py?line=706'>707</a>\u001b[0m   \u001b[39mif\u001b[39;00m \u001b[39mself\u001b[39m\u001b[39m.\u001b[39m_npy_value \u001b[39mis\u001b[39;00m \u001b[39mNone\u001b[39;00m:\n\u001b[0;32m--> <a href='file:///home/cyanos/Workspace/OOD_Generative_models/score_flow-main/venv/lib/python3.10/site-packages/jax/interpreters/pxla.py?line=707'>708</a>\u001b[0m     \u001b[39mself\u001b[39;49m\u001b[39m.\u001b[39;49mcopy_to_host_async()\n\u001b[1;32m    <a href='file:///home/cyanos/Workspace/OOD_Generative_models/score_flow-main/venv/lib/python3.10/site-packages/jax/interpreters/pxla.py?line=708'>709</a>\u001b[0m     npy_value \u001b[39m=\u001b[39m np\u001b[39m.\u001b[39mempty(\u001b[39mself\u001b[39m\u001b[39m.\u001b[39maval\u001b[39m.\u001b[39mshape, \u001b[39mself\u001b[39m\u001b[39m.\u001b[39maval\u001b[39m.\u001b[39mdtype)\n\u001b[1;32m    <a href='file:///home/cyanos/Workspace/OOD_Generative_models/score_flow-main/venv/lib/python3.10/site-packages/jax/interpreters/pxla.py?line=709'>710</a>\u001b[0m     \u001b[39mfor\u001b[39;00m i \u001b[39min\u001b[39;00m \u001b[39mself\u001b[39m\u001b[39m.\u001b[39mone_replica_buffer_indices:\n",
      "File \u001b[0;32m~/Workspace/OOD_Generative_models/score_flow-main/venv/lib/python3.10/site-packages/jax/interpreters/pxla.py:691\u001b[0m, in \u001b[0;36m_sda_copy_to_host_async\u001b[0;34m(self)\u001b[0m\n\u001b[1;32m    <a href='file:///home/cyanos/Workspace/OOD_Generative_models/score_flow-main/venv/lib/python3.10/site-packages/jax/interpreters/pxla.py?line=688'>689</a>\u001b[0m \u001b[39mdef\u001b[39;00m \u001b[39m_sda_copy_to_host_async\u001b[39m(\u001b[39mself\u001b[39m):\n\u001b[1;32m    <a href='file:///home/cyanos/Workspace/OOD_Generative_models/score_flow-main/venv/lib/python3.10/site-packages/jax/interpreters/pxla.py?line=689'>690</a>\u001b[0m   \u001b[39mfor\u001b[39;00m buffer_index \u001b[39min\u001b[39;00m \u001b[39mself\u001b[39m\u001b[39m.\u001b[39mone_replica_buffer_indices:\n\u001b[0;32m--> <a href='file:///home/cyanos/Workspace/OOD_Generative_models/score_flow-main/venv/lib/python3.10/site-packages/jax/interpreters/pxla.py?line=690'>691</a>\u001b[0m     \u001b[39mself\u001b[39;49m\u001b[39m.\u001b[39;49mdevice_buffers[buffer_index]\u001b[39m.\u001b[39;49mcopy_to_host_async()\n",
      "\u001b[0;31mKeyboardInterrupt\u001b[0m: "
     ]
    }
   ],
   "source": [
    "# Compute log-likelihoods (bits/dim) if enabled\n",
    "if config.eval.enable_bpd:\n",
    "  bpds = []\n",
    "  begin_repeat_id = begin_bpd_round // len(ds_bpd)\n",
    "  begin_batch_id = begin_bpd_round % len(ds_bpd)\n",
    "  # Repeat multiple times to reduce variance when needed\n",
    "  for repeat in range(begin_repeat_id, bpd_num_repeats):\n",
    "    bpd_iter = iter(ds_bpd)  # pytype: disable=wrong-arg-types\n",
    "    for _ in range(begin_batch_id):\n",
    "      next(bpd_iter)\n",
    "    for batch_id in range(begin_batch_id, len(ds_bpd)):\n",
    "      bpd_round_id = batch_id + len(ds_bpd) * repeat\n",
    "      if tf.io.gfile.exists(os.path.join(eval_dir,\n",
    "                                  f\"{config.eval.bpd_dataset}_ckpt_{ckpt}_bpd_{bpd_round_id}.npz\")):\n",
    "        continue\n",
    "      batch = next(bpd_iter)\n",
    "      eval_batch = jax.tree_map(lambda x: scaler(x._numpy()), batch)\n",
    "      # if config.eval.dequantizer:\n",
    "      #   rng, step_rng = jax.random.split(rng)\n",
    "      #   data = eval_batch['image']\n",
    "      #   u = jax.random.normal(step_rng, data.shape)\n",
    "      #   noise, logpd = p_dequantizer(u, inverse_scaler(data))\n",
    "      #   data = scaler((inverse_scaler(data) * 255. + noise) / 256.)\n",
    "      #   bpd_d = -logpd / np.log(2.)\n",
    "      #   dim = np.prod(noise.shape[2:])\n",
    "      #   bpd_d = bpd_d / dim\n",
    "      # else:\n",
    "      data = eval_batch['image']\n",
    "\n",
    "      rng, *step_rng = jax.random.split(rng, jax.local_device_count() + 1)\n",
    "      step_rng = jnp.asarray(step_rng)\n",
    "      bpd = likelihood_fn(step_rng, pstate, data)[0]\n",
    "      # if config.eval.dequantizer:\n",
    "      #   bpd = bpd + bpd_d\n",
    "      bpd = bpd.reshape(-1)\n",
    "      bpds.extend(bpd)\n",
    "      logging.info(\n",
    "        \"ckpt: %d, repeat: %d, batch: %d, mean bpd: %6f\" % (ckpt, repeat, batch_id, jnp.mean(jnp.asarray(bpds))))\n",
    "      # Save bits/dim to disk or Google Cloud Storage\n",
    "      with tf.io.gfile.GFile(os.path.join(eval_dir,\n",
    "                                          f\"{config.eval.bpd_dataset}_ckpt_{ckpt}_bpd_{bpd_round_id}.npz\"),\n",
    "                              \"wb\") as fout:\n",
    "        io_buffer = io.BytesIO()\n",
    "        np.savez_compressed(io_buffer, bpd)\n",
    "        fout.write(io_buffer.getvalue())\n",
    "\n",
    "      eval_meta = eval_meta.replace(ckpt_id=ckpt, bpd_round_id=bpd_round_id, rng=rng)\n",
    "      # Save intermediate states to resume evaluation after pre-emption\n",
    "      checkpoints.save_checkpoint(\n",
    "        eval_dir,\n",
    "        eval_meta,\n",
    "        step=ckpt * (num_sampling_rounds + num_bpd_rounds) + bpd_round_id,\n",
    "        keep=1,\n",
    "        prefix=f\"meta_{jax.host_id()}_\", overwrite=True)\n",
    "begin_bpd_round = 0\n",
    "begin_sampling_round = 0"
   ]
  },
  {
   "cell_type": "code",
   "execution_count": null,
   "metadata": {},
   "outputs": [],
   "source": [
    "# Remove all meta files after finishing evaluation\n",
    "# meta_files = tf.io.gfile.glob(os.path.join(eval_dir, f\"meta_{jax.host_id()}_*\"))\n",
    "# for file in meta_files:\n",
    "#     tf.io.gfile.remove(file)"
   ]
  },
  {
   "cell_type": "code",
   "execution_count": 19,
   "metadata": {},
   "outputs": [],
   "source": [
    "from glob import glob"
   ]
  },
  {
   "cell_type": "code",
   "execution_count": 21,
   "metadata": {},
   "outputs": [],
   "source": [
    "bpd_file_paths = glob('outs/cifar10_subvp_likelihood_tw/eval/test_ckpt_26_bpd_*.npz') \n",
    "bpd_file_paths = sorted(bpd_file_paths)\n",
    "bpds = []\n",
    "for p in bpd_file_paths:\n",
    "    tmp = np.load(p)\n",
    "    bpds.append(tmp['arr_0'])\n",
    "bpds = np.concatenate(bpds)"
   ]
  },
  {
   "cell_type": "code",
   "execution_count": 27,
   "metadata": {},
   "outputs": [
    {
     "name": "stdout",
     "output_type": "stream",
     "text": [
      "CIFAR NLL 2.9826105\n"
     ]
    }
   ],
   "source": [
    "cifar_nll = bpds\n",
    "print(\"CIFAR NLL\", np.mean(cifar_nll))\n",
    "\n",
    "# svhn_nll = compute_nll(test_svhn, model)\n",
    "# print(\"SVHN NLL\", torch.mean(svhn_nll))"
   ]
  },
  {
   "cell_type": "code",
   "execution_count": 29,
   "metadata": {},
   "outputs": [],
   "source": [
    "import matplotlib.pyplot as plt"
   ]
  },
  {
   "cell_type": "code",
   "execution_count": 31,
   "metadata": {},
   "outputs": [
    {
     "data": {
      "image/png": "[encoded data removed]",
      "text/plain": [
       "<Figure size 1440x720 with 1 Axes>"
      ]
     },
     "metadata": {
      "needs_background": "light"
     },
     "output_type": "display_data"
    }
   ],
   "source": [
    "plt.figure(figsize=(20,10))\n",
    "plt.title(\"Histogram Glow - trained on CIFAR10\")\n",
    "plt.xlabel(\"Negative bits per dimension\")\n",
    "# plt.hist(-svhn_nll.numpy(), label=\"SVHN\", density=True, bins=30)\n",
    "plt.hist(-cifar_nll, label=\"CIFAR10\", density=True, bins=50)\n",
    "plt.legend()\n",
    "plt.show()\n",
    "# plt.savefig(\"images/histogram_glow_cifar_svhn.png\", dpi=300)"
   ]
  },
  {
   "cell_type": "code",
   "execution_count": null,
   "metadata": {},
   "outputs": [],
   "source": []
  }
 ],
 "metadata": {
  "interpreter": {
   "hash": "2ab3a88db3bbba6f6fddfe62f28955b2f80c7a49ce961a9bc58b5d9fef525b8a"
  },
  "kernelspec": {
   "display_name": "Python 3.10.4 (conda)",
   "language": "python",
   "name": "python3"
  },
  "language_info": {
   "codemirror_mode": {
    "name": "ipython",
    "version": 3
   },
   "file_extension": ".py",
   "mimetype": "text/x-python",
   "name": "python",
   "nbconvert_exporter": "python",
   "pygments_lexer": "ipython3",
   "version": "3.10.4"
  },
  "orig_nbformat": 4
 },
 "nbformat": 4,
 "nbformat_minor": 2
}
